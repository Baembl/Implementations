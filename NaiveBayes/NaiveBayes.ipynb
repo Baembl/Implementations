{
 "cells": [
  {
   "cell_type": "code",
   "execution_count": 1,
   "id": "cfea937f",
   "metadata": {},
   "outputs": [],
   "source": [
    "import pandas as pd\n",
    "import numpy as np\n",
    "from sklearn.feature_extraction.text import TfidfVectorizer\n",
    "from sklearn.model_selection import train_test_split\n",
    "from sklearn.naive_bayes import MultinomialNB\n",
    "from sklearn.naive_bayes import GaussianNB\n",
    "from sklearn.metrics import accuracy_score, classification_report, confusion_matrix\n",
    "import matplotlib.pyplot as plt\n",
    "import seaborn as sns"
   ]
  },
  {
   "cell_type": "code",
   "execution_count": 2,
   "id": "e12b5e2b",
   "metadata": {},
   "outputs": [],
   "source": [
    "def load_data(filepath):\n",
    "    try:\n",
    "        data=pd.read_csv(filepath)\n",
    "    except UnicodeDecodeError:\n",
    "        data= pd.read_csv(filepath, encoding= 'ISO-8859-1')\n",
    "\n",
    "    data=data[['v1','v2']]\n",
    "    data.columns= ['label','text']\n",
    "\n",
    "    return data"
   ]
  },
  {
   "cell_type": "code",
   "execution_count": 3,
   "id": "c2beb244",
   "metadata": {},
   "outputs": [],
   "source": [
    "def preprocess_data(data):\n",
    "    data['label']= data['label'].map({'ham':0, 'spam':1})\n",
    "    data= data.drop_duplicates()\n",
    "    return data"
   ]
  },
  {
   "cell_type": "code",
   "execution_count": 4,
   "id": "00d68031",
   "metadata": {},
   "outputs": [],
   "source": [
    "def extract_features(data):\n",
    "    tfidf= TfidfVectorizer(max_features= 5000, stop_words= 'english')\n",
    "    X= tfidf.fit_transform(data['text'])\n",
    "    y= data['label']\n",
    "    return X,y,tfidf"
   ]
  },
  {
   "cell_type": "code",
   "execution_count": 10,
   "id": "d97fdb59",
   "metadata": {},
   "outputs": [],
   "source": [
    "def train_and_evaluate(X_train, X_test, y_train, y_test):\n",
    "    models={\n",
    "        'Naive Bayes Multinomial': MultinomialNB(),\n",
    "    }\n",
    "\n",
    "    results ={}\n",
    "    for name, models in models.items():\n",
    "        models.fit(X_train, y_train)\n",
    "        y_pred= models.predict(X_test)\n",
    "        accuracy= accuracy_score(y_pred, y_test)\n",
    "        report = classification_report(y_test, y_pred, target_names=['ham', 'spam'])\n",
    "        cm = confusion_matrix(y_test, y_pred)\n",
    "        \n",
    "        results[name] = {\n",
    "            'model': models,\n",
    "            'accuracy': accuracy,\n",
    "            'report': report,\n",
    "            'confusion_matrix': cm\n",
    "        }\n",
    "        \n",
    "        print(f\"\\n{name} Results:\")\n",
    "        print(f\"Accuracy: {accuracy:.4f}\")\n",
    "        print(report)\n",
    "        \n",
    "        # Plot confusion matrix\n",
    "        plt.figure(figsize=(6, 4))\n",
    "        sns.heatmap(cm, annot=True, fmt='d', cmap='Blues', \n",
    "                    xticklabels=['ham', 'spam'], \n",
    "                    yticklabels=['ham', 'spam'])\n",
    "        plt.title(f'Confusion Matrix - {name}')\n",
    "        plt.xlabel('Predicted')\n",
    "        plt.ylabel('Actual')\n",
    "        plt.show()\n",
    "    \n",
    "    return results\n"
   ]
  },
  {
   "cell_type": "code",
   "execution_count": 11,
   "id": "204c928c",
   "metadata": {},
   "outputs": [],
   "source": [
    "def main():\n",
    "    filepath= r\"C:\\Users\\UAE\\Downloads\\Abdur Rafay\\Datasets\\spam.csv\"\n",
    "    data= load_data(filepath)\n",
    "    print(f\"Dataset loaded with {len(data)} emails\")\n",
    "    data= preprocess_data(data)\n",
    "    print(f'After preprocessing, {len(data)} emails remain')\n",
    "    print('\\nClass Distribution')\n",
    "    print(data['label'].value_counts())\n",
    "    X, y, tfidf= extract_features(data)\n",
    "    X_train, X_test, y_train, y_test = train_test_split(\n",
    "        X, y, test_size=0.2, random_state=42, stratify=y\n",
    "    )\n",
    "    # Train and evaluate models\n",
    "    results = train_and_evaluate(X_train, X_test, y_train, y_test)\n",
    "    \n",
    "    # Compare model accuracies\n",
    "    print(\"\\nModel Comparison:\")\n",
    "    for name, result in results.items():\n",
    "        print(f\"{name}: {result['accuracy']:.4f}\")"
   ]
  },
  {
   "cell_type": "code",
   "execution_count": 12,
   "id": "855ab515",
   "metadata": {},
   "outputs": [
    {
     "name": "stdout",
     "output_type": "stream",
     "text": [
      "Dataset loaded with 5572 emails\n",
      "After preprocessing, 5169 emails remain\n",
      "\n",
      "Class Distribution\n",
      "label\n",
      "0    4516\n",
      "1     653\n",
      "Name: count, dtype: int64\n",
      "\n",
      "Naive Bayes Multinomial Results:\n",
      "Accuracy: 0.9729\n",
      "              precision    recall  f1-score   support\n",
      "\n",
      "         ham       0.97      1.00      0.98       903\n",
      "        spam       0.99      0.79      0.88       131\n",
      "\n",
      "    accuracy                           0.97      1034\n",
      "   macro avg       0.98      0.90      0.93      1034\n",
      "weighted avg       0.97      0.97      0.97      1034\n",
      "\n"
     ]
    },
    {
     "data": {
      "image/png": "[encoded data removed]",
      "text/plain": [
       "<Figure size 600x400 with 2 Axes>"
      ]
     },
     "metadata": {},
     "output_type": "display_data"
    },
    {
     "name": "stdout",
     "output_type": "stream",
     "text": [
      "\n",
      "Model Comparison:\n",
      "Naive Bayes Multinomial: 0.9729\n"
     ]
    }
   ],
   "source": [
    "if __name__ == \"__main__\":\n",
    "    main()"
   ]
  }
 ],
 "metadata": {
  "kernelspec": {
   "display_name": "base",
   "language": "python",
   "name": "python3"
  },
  "language_info": {
   "codemirror_mode": {
    "name": "ipython",
    "version": 3
   },
   "file_extension": ".py",
   "mimetype": "text/x-python",
   "name": "python",
   "nbconvert_exporter": "python",
   "pygments_lexer": "ipython3",
   "version": "3.12.3"
  }
 },
 "nbformat": 4,
 "nbformat_minor": 5
}
