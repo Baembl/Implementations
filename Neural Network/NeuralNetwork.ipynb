{
 "cells": [
  {
   "cell_type": "code",
   "execution_count": 31,
   "id": "ed6c25ea",
   "metadata": {},
   "outputs": [],
   "source": [
    "# Creating data set\n",
    "\n",
    "# A\n",
    "a =[0, 0, 1, 1, 0, 0,\n",
    "   0, 1, 0, 0, 1, 0,\n",
    "   1, 1, 1, 1, 1, 1,\n",
    "   1, 0, 0, 0, 0, 1,\n",
    "   1, 0, 0, 0, 0, 1]\n",
    "# B\n",
    "b =[0, 1, 1, 1, 1, 0,\n",
    "   0, 1, 0, 0, 1, 0,\n",
    "   0, 1, 1, 1, 1, 0,\n",
    "   0, 1, 0, 0, 1, 0,\n",
    "   0, 1, 1, 1, 1, 0]\n",
    "# C\n",
    "c =[0, 1, 1, 1, 1, 0,\n",
    "   0, 1, 0, 0, 0, 0,\n",
    "   0, 1, 0, 0, 0, 0,\n",
    "   0, 1, 0, 0, 0, 0,\n",
    "   0, 1, 1, 1, 1, 0]\n",
    "\n",
    "# Creating labels\n",
    "y =[[1, 0, 0],\n",
    "   [0, 1, 0],\n",
    "   [0, 0, 1]]"
   ]
  },
  {
   "cell_type": "code",
   "execution_count": 32,
   "id": "4f489c4f",
   "metadata": {},
   "outputs": [
    {
     "data": {
      "image/png": "[encoded data removed]",
      "text/plain": [
       "<Figure size 640x480 with 1 Axes>"
      ]
     },
     "metadata": {},
     "output_type": "display_data"
    }
   ],
   "source": [
    "import numpy as np\n",
    "import matplotlib.pyplot as plt\n",
    "\n",
    "# visualizing the data, plotting C.\n",
    "plt.imshow(np.array(c).reshape(5, 6))\n",
    "plt.show()"
   ]
  },
  {
   "cell_type": "code",
   "execution_count": 33,
   "id": "5719292e",
   "metadata": {},
   "outputs": [
    {
     "name": "stdout",
     "output_type": "stream",
     "text": [
      "[array([[0, 0, 1, 1, 0, 0, 0, 1, 0, 0, 1, 0, 1, 1, 1, 1, 1, 1, 1, 0, 0, 0,\n",
      "        0, 1, 1, 0, 0, 0, 0, 1]]), array([[0, 1, 1, 1, 1, 0, 0, 1, 0, 0, 1, 0, 0, 1, 1, 1, 1, 0, 0, 1, 0, 0,\n",
      "        1, 0, 0, 1, 1, 1, 1, 0]]), array([[0, 1, 1, 1, 1, 0, 0, 1, 0, 0, 0, 0, 0, 1, 0, 0, 0, 0, 0, 1, 0, 0,\n",
      "        0, 0, 0, 1, 1, 1, 1, 0]])] \n",
      "\n",
      " [[1 0 0]\n",
      " [0 1 0]\n",
      " [0 0 1]]\n"
     ]
    }
   ],
   "source": [
    "# converting data and labels into numpy array\n",
    "x =[np.array(a).reshape(1, 30), np.array(b).reshape(1, 30), np.array(c).reshape(1, 30)]\n",
    "y = np.array(y)\n",
    "# Printing data and labels\n",
    "print(x, \"\\n\\n\", y)"
   ]
  },
  {
   "cell_type": "code",
   "execution_count": 34,
   "id": "c2fb3fa4",
   "metadata": {},
   "outputs": [],
   "source": [
    "# activation function\n",
    "def sigmoid(x):\n",
    "\treturn(1/(1 + np.exp(-x)))\n",
    "\n",
    "# Creating the Feed forward neural network\n",
    "def f_forward(x, w1, w2):\n",
    "\t# hidden\n",
    "\tz1 = x.dot(w1)    # input from layer 1 \n",
    "\ta1 = sigmoid(z1)  # out put of layer 1 \n",
    "\tz2 = a1.dot(w2)   # input of out layer\n",
    "\ta2 = sigmoid(z2)  # output of out layer\n",
    "\treturn(a2)\n",
    "\n",
    "# initializing the weights randomly\n",
    "def generate_wt(x, y):\n",
    "\tli =[]\n",
    "\tfor i in range(x * y):\n",
    "\t\tli.append(np.random.randn())\n",
    "\treturn(np.array(li).reshape(x, y))\n",
    "\t\n",
    "# for loss we will be using mean square error(MSE)\n",
    "def loss(out, Y):\n",
    "\ts =(np.square(out-Y))\n",
    "\ts = np.sum(s)/len(y)\n",
    "\treturn(s)\n",
    "\n",
    "# Back propagation of error \n",
    "def back_prop(x, y, w1, w2, alpha):\n",
    "\t\n",
    "\tz1 = x.dot(w1)\n",
    "\ta1 = sigmoid(z1) \n",
    "\tz2 = a1.dot(w2)\n",
    "\ta2 = sigmoid(z2)\n",
    "\t\n",
    "\t# error in output layer\n",
    "\td2 =(a2-y)\n",
    "\td1 = np.multiply((w2.dot((d2.transpose()))).transpose(), (np.multiply(a1, 1-a1)))\n",
    "\t# Gradient for w1 and w2\n",
    "\tw1_adj = x.transpose().dot(d1)\n",
    "\tw2_adj = a1.transpose().dot(d2)\n",
    "\t\n",
    "\t# Updating parameters\n",
    "\tw1 = w1-(alpha*(w1_adj))\n",
    "\tw2 = w2-(alpha*(w2_adj))\n",
    "\t\n",
    "\treturn(w1, w2)"
   ]
  },
  {
   "cell_type": "code",
   "execution_count": 35,
   "id": "b732918d",
   "metadata": {},
   "outputs": [
    {
     "name": "stdout",
     "output_type": "stream",
     "text": [
      "[[ 2.80448388e-01  2.46432218e-02  1.18077160e+00  6.33066555e-01\n",
      "  -2.01328542e+00]\n",
      " [ 1.00639086e+00  5.44834531e-01  2.86519859e-02  3.93860196e-02\n",
      "  -5.72554086e-01]\n",
      " [-8.06776984e-01 -1.98551145e+00 -7.52737597e-01 -1.14850982e+00\n",
      "  -1.88722528e+00]\n",
      " [-1.39513316e+00  6.69021630e-01  3.72712912e-01  4.80619496e-01\n",
      "  -4.48943291e-01]\n",
      " [ 3.29874079e-01 -1.50491892e+00 -4.08872477e-01  1.13551677e+00\n",
      "   2.90844271e-01]\n",
      " [-1.59510834e+00 -8.30814342e-01  2.72254530e+00 -3.48385205e-01\n",
      "  -1.84981003e+00]\n",
      " [ 1.31889651e-01  5.26230733e-01  1.19589990e-01  2.82711036e+00\n",
      "   1.00250355e+00]\n",
      " [ 9.52170253e-01  6.34544091e-01  3.53207237e-02  1.55192275e+00\n",
      "  -1.10436214e+00]\n",
      " [ 1.42602707e+00  1.30690118e+00 -9.00704976e-01 -5.01297714e-01\n",
      "  -9.96296445e-01]\n",
      " [-3.91915288e-01  6.71855693e-01 -5.33787605e-01 -1.60300483e+00\n",
      "   2.13087453e-01]\n",
      " [ 2.00758423e+00  4.50089080e-01  9.11203511e-02 -6.00295870e-02\n",
      "   6.75070458e-02]\n",
      " [-1.38891452e+00 -1.05947293e+00  2.29526482e+00  9.46749050e-01\n",
      "   1.35900778e+00]\n",
      " [ 1.60482805e+00  4.02740154e-01  7.01129144e-01 -1.02558271e+00\n",
      "   1.29924465e+00]\n",
      " [ 1.07347979e+00 -3.01406263e-01  8.92379429e-01  9.10462570e-01\n",
      "  -7.25526563e-01]\n",
      " [ 2.09122716e+00  2.10169269e+00  1.42974472e+00  9.61247868e-01\n",
      "   1.10151935e+00]\n",
      " [ 1.05286783e+00  6.16179402e-01  1.87021620e+00  2.06572102e-01\n",
      "  -1.68490912e-01]\n",
      " [ 1.95277659e-01 -1.31110058e-01 -6.17383181e-01  7.60236162e-01\n",
      "  -4.24139604e-01]\n",
      " [ 3.01035603e-01 -2.52053122e-01 -7.07953135e-01  5.05186153e-01\n",
      "  -5.02830649e-01]\n",
      " [ 1.90622223e-01  4.34945585e-01  1.20190809e+00  6.63749818e-01\n",
      "  -3.77955477e-02]\n",
      " [-1.46218621e+00  7.66755357e-01  1.05625003e+00 -7.94294230e-01\n",
      "  -3.19444541e-01]\n",
      " [-1.86494385e-01 -6.25960225e-01  1.54142538e-01  7.54550327e-01\n",
      "  -9.96937201e-02]\n",
      " [ 1.79787195e-01 -1.26410032e+00  1.47336755e+00 -2.00115400e-01\n",
      "  -4.18191135e-01]\n",
      " [-3.26901312e-02 -1.09362533e+00  5.75966689e-01 -1.40931844e+00\n",
      "   1.46093919e+00]\n",
      " [ 9.86753728e-01  3.46307101e-01  6.96628551e-03  1.50558459e+00\n",
      "   2.65286437e-01]\n",
      " [-1.34275769e+00  2.21377640e+00 -1.23293884e+00  2.76473026e-01\n",
      "   2.62498671e-03]\n",
      " [-7.27973542e-01  8.59118194e-02 -3.71746160e-01 -1.71641551e+00\n",
      "  -7.79761398e-01]\n",
      " [ 3.21111321e-01  4.57858020e-01  5.80154390e-02 -1.15558940e+00\n",
      "   7.71453084e-01]\n",
      " [-2.35942704e+00 -1.95667073e-01  6.98563023e-03  1.61376852e+00\n",
      "   9.49186651e-02]\n",
      " [ 1.75941817e+00 -1.27094966e+00  8.89437151e-01  2.74032325e-01\n",
      "  -8.88109250e-01]\n",
      " [-4.93965774e-01 -1.25265231e-01  6.59038927e-02  2.67047357e-01\n",
      "  -1.46251341e+00]] \n",
      "\n",
      " [[-0.84966505 -1.20471202  0.75422892]\n",
      " [ 0.72486375 -0.45181654  0.73121528]\n",
      " [-0.92488027 -1.45981176 -0.70395165]\n",
      " [ 2.06980394  1.45601562 -0.04242141]\n",
      " [-0.18475194  0.57645003 -0.18406344]]\n"
     ]
    }
   ],
   "source": [
    "w1 = generate_wt(30, 5)\n",
    "w2 = generate_wt(5, 3)\n",
    "\n",
    "print(w1, \"\\n\\n\", w2)"
   ]
  },
  {
   "cell_type": "code",
   "execution_count": 36,
   "id": "dbfbb504",
   "metadata": {},
   "outputs": [
    {
     "name": "stdout",
     "output_type": "stream",
     "text": [
      "epochs: 1 ======== acc: 67.41746161651008\n",
      "epochs: 2 ======== acc: 71.2552936412646\n",
      "epochs: 3 ======== acc: 74.06940673196702\n",
      "epochs: 4 ======== acc: 76.08089026903535\n",
      "epochs: 5 ======== acc: 77.53208709780381\n",
      "epochs: 6 ======== acc: 78.6106595995121\n",
      "epochs: 7 ======== acc: 79.44377649737065\n",
      "epochs: 8 ======== acc: 80.11411428247276\n",
      "epochs: 9 ======== acc: 80.67499880349155\n",
      "epochs: 10 ======== acc: 81.16082678127815\n",
      "epochs: 11 ======== acc: 81.59387089799236\n",
      "epochs: 12 ======== acc: 81.98868539618562\n",
      "epochs: 13 ======== acc: 82.35492682526375\n",
      "epochs: 14 ======== acc: 82.69913554669625\n",
      "epochs: 15 ======== acc: 83.02584976822904\n",
      "epochs: 16 ======== acc: 83.3383003066185\n",
      "epochs: 17 ======== acc: 83.63884623530366\n",
      "epochs: 18 ======== acc: 83.92925162000229\n",
      "epochs: 19 ======== acc: 84.2108646606111\n",
      "epochs: 20 ======== acc: 84.48473630570167\n",
      "epochs: 21 ======== acc: 84.75170069214242\n",
      "epochs: 22 ======== acc: 85.01243098205755\n",
      "epochs: 23 ======== acc: 85.26747896194668\n",
      "epochs: 24 ======== acc: 85.51730366961182\n",
      "epochs: 25 ======== acc: 85.76229244752004\n",
      "epochs: 26 ======== acc: 86.0027766746065\n",
      "epochs: 27 ======== acc: 86.23904370709425\n",
      "epochs: 28 ======== acc: 86.47134609287613\n",
      "epochs: 29 ======== acc: 86.69990881511902\n",
      "epochs: 30 ======== acc: 86.92493511135133\n",
      "epochs: 31 ======== acc: 87.14661126982305\n",
      "epochs: 32 ======== acc: 87.3651107041294\n",
      "epochs: 33 ======== acc: 87.58059753651146\n",
      "epochs: 34 ======== acc: 87.79322987111509\n",
      "epochs: 35 ======== acc: 88.00316290490828\n",
      "epochs: 36 ======== acc: 88.2105520018073\n",
      "epochs: 37 ======== acc: 88.41555584179922\n",
      "epochs: 38 ======== acc: 88.61833974896398\n",
      "epochs: 39 ======== acc: 88.81907929783506\n",
      "epochs: 40 ======== acc: 89.01796429353044\n",
      "epochs: 41 ======== acc: 89.2152032133029\n",
      "epochs: 42 ======== acc: 89.41102817899697\n",
      "epochs: 43 ======== acc: 89.60570049069773\n",
      "epochs: 44 ======== acc: 89.79951667444061\n",
      "epochs: 45 ======== acc: 89.99281485408\n",
      "epochs: 46 ======== acc: 90.18598100789951\n",
      "epochs: 47 ======== acc: 90.37945425467531\n",
      "epochs: 48 ======== acc: 90.57372965372834\n",
      "epochs: 49 ======== acc: 90.76935601540393\n",
      "epochs: 50 ======== acc: 90.96692485697479\n",
      "epochs: 51 ======== acc: 91.16704500402516\n",
      "epochs: 52 ======== acc: 91.37029588396514\n",
      "epochs: 53 ======== acc: 91.5771524160571\n",
      "epochs: 54 ======== acc: 91.78787765872197\n",
      "epochs: 55 ======== acc: 92.00238881347603\n",
      "epochs: 56 ======== acc: 92.22011950772455\n",
      "epochs: 57 ======== acc: 92.43992311164364\n",
      "epochs: 58 ======== acc: 92.66007548647693\n",
      "epochs: 59 ======== acc: 92.87842147092783\n",
      "epochs: 60 ======== acc: 93.09265756070648\n",
      "epochs: 61 ======== acc: 93.30067445463564\n",
      "epochs: 62 ======== acc: 93.50084541685092\n",
      "epochs: 63 ======== acc: 93.6921728294318\n",
      "epochs: 64 ======== acc: 93.87427675896237\n",
      "epochs: 65 ======== acc: 94.0472730412567\n",
      "epochs: 66 ======== acc: 94.21160974761638\n",
      "epochs: 67 ======== acc: 94.36791529117899\n",
      "epochs: 68 ======== acc: 94.5168835285625\n",
      "epochs: 69 ======== acc: 94.65919933631957\n",
      "epochs: 70 ======== acc: 94.79549724379297\n",
      "epochs: 71 ======== acc: 94.92634300150009\n",
      "epochs: 72 ======== acc: 95.05222927167503\n",
      "epochs: 73 ======== acc: 95.17357908304854\n",
      "epochs: 74 ======== acc: 95.29075295671852\n",
      "epochs: 75 ======== acc: 95.40405728548129\n",
      "epochs: 76 ======== acc: 95.5137526529179\n",
      "epochs: 77 ======== acc: 95.62006145247818\n",
      "epochs: 78 ======== acc: 95.72317455388686\n",
      "epochs: 79 ======== acc: 95.82325697318323\n",
      "epochs: 80 ======== acc: 95.92045260662162\n",
      "epochs: 81 ======== acc: 96.014888133228\n",
      "epochs: 82 ======== acc: 96.10667620338043\n",
      "epochs: 83 ======== acc: 96.19591802716076\n",
      "epochs: 84 ======== acc: 96.28270546526197\n",
      "epochs: 85 ======== acc: 96.36712271171046\n",
      "epochs: 86 ======== acc: 96.4492476440321\n",
      "epochs: 87 ======== acc: 96.52915290391945\n",
      "epochs: 88 ======== acc: 96.60690676040261\n",
      "epochs: 89 ======== acc: 96.68257379807967\n",
      "epochs: 90 ======== acc: 96.75621546503976\n",
      "epochs: 91 ======== acc: 96.82789050854515\n",
      "epochs: 92 ======== acc: 96.89765532114562\n",
      "epochs: 93 ======== acc: 96.96556421549172\n",
      "epochs: 94 ======== acc: 97.03166964253333\n",
      "epochs: 95 ======== acc: 97.09602236488571\n",
      "epochs: 96 ======== acc: 97.1586715947994\n",
      "epochs: 97 ======== acc: 97.21966510427652\n",
      "epochs: 98 ======== acc: 97.27904931335127\n",
      "epochs: 99 ======== acc: 97.33686936132577\n",
      "epochs: 100 ======== acc: 97.39316916476656\n"
     ]
    }
   ],
   "source": [
    "def train(x, Y, w1, w2, alpha = 0.01, epoch = 10):\n",
    "    acc = []\n",
    "    loss_values = []\n",
    "    for j in range(epoch):\n",
    "        l = []\n",
    "        for i in range(len(x)):\n",
    "            out = f_forward(x[i], w1, w2)\n",
    "            l.append((loss(out, Y[i])))  \n",
    "            w1, w2 = back_prop(x[i], y[i], w1, w2, alpha)\n",
    "        print(\"epochs:\", j + 1, \"======== acc:\", (1 - (sum(l) / len(x))) * 100)\n",
    "        acc.append((1 - (sum(l) / len(x))) * 100)\n",
    "        loss_values.append(sum(l) / len(x)) \n",
    "    return acc, loss_values, w1, w2\n",
    "    \n",
    "acc, loss, w1, w2 = train(x, y, w1, w2, 0.1, 100)"
   ]
  },
  {
   "cell_type": "code",
   "execution_count": 37,
   "id": "db8b800b",
   "metadata": {},
   "outputs": [
    {
     "data": {
      "image/png": "[encoded data removed]",
      "text/plain": [
       "<Figure size 640x480 with 1 Axes>"
      ]
     },
     "metadata": {},
     "output_type": "display_data"
    },
    {
     "data": {
      "image/png": "[encoded data removed]",
      "text/plain": [
       "<Figure size 640x480 with 1 Axes>"
      ]
     },
     "metadata": {},
     "output_type": "display_data"
    }
   ],
   "source": [
    "# plotting accuracy\n",
    "plt.plot(acc)\n",
    "plt.ylabel('Accuracy')\n",
    "plt.xlabel(\"Epochs:\")\n",
    "plt.show()\n",
    "\n",
    "# plotting Loss\n",
    "plt.plot(loss)\n",
    "plt.ylabel('Loss')\n",
    "plt.xlabel(\"Epochs:\")\n",
    "plt.show()"
   ]
  },
  {
   "cell_type": "code",
   "execution_count": 38,
   "id": "554f525c",
   "metadata": {},
   "outputs": [
    {
     "name": "stdout",
     "output_type": "stream",
     "text": [
      "Image is of letter B.\n"
     ]
    },
    {
     "data": {
      "image/png": "[encoded data removed]",
      "text/plain": [
       "<Figure size 640x480 with 1 Axes>"
      ]
     },
     "metadata": {},
     "output_type": "display_data"
    }
   ],
   "source": [
    "def predict(x, w1, w2):\n",
    "\tOut = f_forward(x, w1, w2)\n",
    "\tmaxm = 0\n",
    "\tk = 0\n",
    "\tfor i in range(len(Out[0])):\n",
    "\t\tif(maxm<Out[0][i]):\n",
    "\t\t\tmaxm = Out[0][i]\n",
    "\t\t\tk = i\n",
    "\tif(k == 0):\n",
    "\t\tprint(\"Image is of letter A.\")\n",
    "\telif(k == 1):\n",
    "\t\tprint(\"Image is of letter B.\")\n",
    "\telse:\n",
    "\t\tprint(\"Image is of letter C.\")\n",
    "\tplt.imshow(x.reshape(5, 6))\n",
    "\tplt.show() \n",
    "# Example: Predicting for letter 'B'\t\n",
    "predict(x[1], w1, w2)"
   ]
  }
 ],
 "metadata": {
  "kernelspec": {
   "display_name": "base",
   "language": "python",
   "name": "python3"
  },
  "language_info": {
   "codemirror_mode": {
    "name": "ipython",
    "version": 3
   },
   "file_extension": ".py",
   "mimetype": "text/x-python",
   "name": "python",
   "nbconvert_exporter": "python",
   "pygments_lexer": "ipython3",
   "version": "3.12.3"
  }
 },
 "nbformat": 4,
 "nbformat_minor": 5
}
